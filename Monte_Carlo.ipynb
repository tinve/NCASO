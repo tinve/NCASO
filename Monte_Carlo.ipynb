{
 "cells": [
  {
   "cell_type": "code",
   "execution_count": 2,
   "metadata": {
    "collapsed": false
   },
   "outputs": [],
   "source": [
    "from __future__ import division\n",
    "import os.path\n",
    "import numpy as np\n",
    "import matplotlib.pyplot as plt\n",
    "from random import randint, uniform\n",
    "from scipy import arange"
   ]
  },
  {
   "cell_type": "code",
   "execution_count": 552,
   "metadata": {
    "collapsed": true
   },
   "outputs": [],
   "source": [
    "# lattice\n",
    "N = 10\n",
    "M = 2\n",
    "dim = 1.5  # can be 1, 1.5 (ladder) or 2\n",
    "\n",
    "J = 1 \n",
    "\n",
    "Tmin = 0\n",
    "Tmax = 4\n",
    "dT = 0.2\n",
    "\n",
    "steps_skip = 10000 * N * M\n",
    "steps_measure = 4000 * N * M"
   ]
  },
  {
   "cell_type": "markdown",
   "metadata": {},
   "source": [
    "# Filename base"
   ]
  },
  {
   "cell_type": "code",
   "execution_count": 553,
   "metadata": {
    "collapsed": true
   },
   "outputs": [],
   "source": [
    "def filename(N, M, dim):\n",
    "    if dim == 1:\n",
    "        fname = '1D, ' + str(N) + ' spins'\n",
    "    elif dim == 1.5:\n",
    "        fname = '1,5D, ' + str(N) + 'x2 spins'\n",
    "    elif dim == 2:\n",
    "        fname = '2D, ' + str(N) + 'x' + str(M) + ' spins'\n",
    "    else:\n",
    "        print 'Unsupported dimensionality'\n",
    "        return\n",
    "    return fname "
   ]
  },
  {
   "cell_type": "markdown",
   "metadata": {},
   "source": [
    "# Create 1D, 1_5D or 2D array"
   ]
  },
  {
   "cell_type": "code",
   "execution_count": 554,
   "metadata": {
    "collapsed": false
   },
   "outputs": [],
   "source": [
    "def create(N, M, dim):\n",
    "    if dim == 1:\n",
    "        return create1D(N)\n",
    "    elif dim == 1.5:\n",
    "        return create1_5D(N)\n",
    "    elif dim == 2:\n",
    "        return create2D(N, M)\n",
    "    else:\n",
    "        print 'Unsupported dimensionality'\n",
    "        return\n",
    "\n",
    "\n",
    "def create1D(N):\n",
    "    a = [2 * randint(0, 1) - 1 for i in range(N)]\n",
    "    mapping = {}\n",
    "    \n",
    "    for i in range (N):\n",
    "        mapping[i] = [(i - 1)%N,\n",
    "                      (i + 1)%N]\n",
    "    return a, mapping\n",
    "\n",
    "\n",
    "def create1_5D(N):\n",
    "    a = [2 * randint(0, 1) - 1 for i in range(2*N)]\n",
    "    mapping = {}\n",
    "    \n",
    "    for i in range(N):\n",
    "        mapping[i] = [(i - 1)%N,\n",
    "                      (i + 1)%N,\n",
    "                      (i + N)%(2*N)]\n",
    "        \n",
    "    for i in range (N, 2*N):\n",
    "        mapping[i] = [(i - 1)%N + N,\n",
    "                      (i + 1)%N + N,\n",
    "                      (i + N)%(2*N)]\n",
    "    return a, mapping    \n",
    "\n",
    "\n",
    "def create2D(N, M):\n",
    "    a = [2 * randint(0, 1) - 1 for i in range(N*M)]\n",
    "    mapping = {}\n",
    "    \n",
    "    for i in range(M):\n",
    "        for j in range(N):\n",
    "            mapping[i*N + j] = [(i*N + j - 1)%N + i*N,\n",
    "                                (i*N + j + 1)%N + i*N,\n",
    "                                (i*N + j - N)%(N*M),\n",
    "                                (i*N + j + N)%(N*M)]\n",
    "\n",
    "    return a, mapping    "
   ]
  },
  {
   "cell_type": "markdown",
   "metadata": {},
   "source": [
    "# Hamiltonian and probabilities"
   ]
  },
  {
   "cell_type": "code",
   "execution_count": 555,
   "metadata": {
    "collapsed": true
   },
   "outputs": [],
   "source": [
    "# probability model\n",
    "def prob(dE, T):\n",
    "    if T == 0:\n",
    "        if dE > 0:\n",
    "            return 0\n",
    "        elif dE < 0:\n",
    "            return 1\n",
    "        else:\n",
    "            return 0.5\n",
    "    else:\n",
    "        return 1/(1 + np.exp(dE/T))\n",
    "\n",
    "# Hamiltonian model (J is global variable here!)\n",
    "def h(s1, s2):\n",
    "    return - J * s1 * s2\n",
    "\n",
    "# Hamiltonian\n",
    "def H(a, mapping):\n",
    "    H = 0\n",
    "    for i in range(len(a)):\n",
    "        for n in mapping[i]:         # mapping[i] returns indices of all neighbours of ith element of a\n",
    "            H = H + h(a[i], a[n]) / len(mapping[i])\n",
    "    return H"
   ]
  },
  {
   "cell_type": "markdown",
   "metadata": {},
   "source": [
    "# Single iteration and measurement"
   ]
  },
  {
   "cell_type": "code",
   "execution_count": 556,
   "metadata": {
    "collapsed": true
   },
   "outputs": [],
   "source": [
    "# single iteration (flipping single spin)\n",
    "def step(a, mapping, T):\n",
    "\n",
    "    a_flip = a[:]\n",
    "    i = randint(0, len(a)-1)\n",
    "    a_flip[i] = - a[i]\n",
    "\n",
    "    dH = H(a_flip, mapping) - H(a, mapping)\n",
    "    p = uniform(0, 1)\n",
    "    flip = 0\n",
    "    \n",
    "    if p <= prob(dH, T):\n",
    "        flip = 1\n",
    "        a = a_flip\n",
    "    return a, flip\n",
    "\n",
    "# measure energy and flips of the lattice:\n",
    "def measure(a, mapping, T, steps_skip, steps_measure):\n",
    "    e = []\n",
    "    flips = ''\n",
    "\n",
    "    # skip transient states\n",
    "    for i in range(0, steps_skip):\n",
    "        a, f = step(a, mapping, T)\n",
    "\n",
    "    for i in range(0, steps_measure):\n",
    "        a, f = step(a, mapping, T)\n",
    "        e.append(H(a, mapping))\n",
    "        flips = flips + str(f)\n",
    "        \n",
    "    E = (sum(e)/len(e)) / len(a)\n",
    "    \n",
    "    return E, flips"
   ]
  },
  {
   "cell_type": "markdown",
   "metadata": {},
   "source": [
    "# Initialize lattice"
   ]
  },
  {
   "cell_type": "code",
   "execution_count": 557,
   "metadata": {
    "collapsed": true
   },
   "outputs": [],
   "source": [
    "a, mapping = create(N, M, dim)"
   ]
  },
  {
   "cell_type": "code",
   "execution_count": 558,
   "metadata": {
    "collapsed": false
   },
   "outputs": [
    {
     "name": "stdout",
     "output_type": "stream",
     "text": [
      "[0.0, 0.20000000000000001, 0.40000000000000002, 0.60000000000000009, 0.80000000000000004, 1.0, 1.2000000000000002, 1.4000000000000001, 1.6000000000000001, 1.8, 2.0, 2.2000000000000002, 2.4000000000000004, 2.6000000000000001, 2.8000000000000003, 3.0, 3.2000000000000002, 3.4000000000000004, 3.6000000000000001, 3.8000000000000003]\n",
      "[-0.7333333333330525, -0.9999999999999998, -0.9995658333333329, -0.9939308333333343, -0.9228525000000263, -0.8283441666666906, -0.6912091666666328, -0.565865833333327, -0.4807925000000046, -0.41334583333333497, -0.3686341666666618, -0.331883333333332, -0.30095583333332965, -0.27020583333333026, -0.2482224999999958, -0.23320999999999983, -0.22073333333333234, -0.20104333333333185, -0.19027666666666512, -0.17997666666666795]\n"
     ]
    }
   ],
   "source": [
    "temperatures = []\n",
    "energies = []\n",
    "magnetizations = []\n",
    "flips = []\n",
    "\n",
    "\n",
    "for T in arange(Tmin, Tmax, dT):\n",
    "    temperatures.append(T)\n",
    "    \n",
    "    E, M, f = measure(a, mapping, T, steps_skip, steps_measure)\n",
    "        \n",
    "    energies.append(E)\n",
    "    magnetizations.append(M)\n",
    "    flips.append(f)\n",
    "\n",
    "print temperatures\n",
    "print energies\n",
    "print magnetizations\n",
    "#print flips"
   ]
  },
  {
   "cell_type": "markdown",
   "metadata": {},
   "source": [
    "# Plot Energy vs Temperature"
   ]
  },
  {
   "cell_type": "code",
   "execution_count": 559,
   "metadata": {
    "collapsed": false
   },
   "outputs": [
    {
     "data": {
      "text/plain": [
       "<matplotlib.text.Text at 0x7f318eddfb90>"
      ]
     },
     "execution_count": 559,
     "metadata": {},
     "output_type": "execute_result"
    }
   ],
   "source": [
    "plt.plot(temperatures, energies, 'ko', ls = ':')\n",
    "plt.xlabel('Temperature')\n",
    "plt.ylabel('Energy')\n",
    "plt.ylim(top = 0, bottom = -1.1)\n",
    "plt.title(filename(N, M, dim))\n",
    "# plt.show()"
   ]
  },
  {
   "cell_type": "markdown",
   "metadata": {},
   "source": [
    "# Save results"
   ]
  },
  {
   "cell_type": "code",
   "execution_count": 560,
   "metadata": {
    "collapsed": false
   },
   "outputs": [],
   "source": [
    "fpng = filename(N, M, dim) + '.png'\n",
    "ftxt = filename(N, M, dim) + '.txt'\n",
    "\n",
    "if os.path.exists(fpng) or os.path.exists(ftxt):\n",
    "    print 'Files already exist'\n",
    "else:\n",
    "    plt.savefig(fpng)\n",
    "    plt.clf()\n",
    "    \n",
    "    f = open(ftxt, 'w')\n",
    "    f.write('temperature, energy, flips\\n')\n",
    "\n",
    "    for i in xrange(len(temperatures)):\n",
    "        f.write(str(temperatures[i]) + ', ' +\n",
    "                str(energies[i]) + ', ' +\n",
    "                flips[i] + '\\n')\n",
    "\n",
    "f.close()     "
   ]
  },
  {
   "cell_type": "code",
   "execution_count": 561,
   "metadata": {
    "collapsed": false
   },
   "outputs": [],
   "source": [
    "#a, mapping = create(N, M, dim)\n",
    "#print a"
   ]
  },
  {
   "cell_type": "code",
   "execution_count": 562,
   "metadata": {
    "collapsed": false
   },
   "outputs": [],
   "source": [
    "#for j in range(100):\n",
    "#    for i in range(100):\n",
    "#        a, f = step(a, mapping, 0.1)\n",
    "#    print a, H(a, mapping)"
   ]
  },
  {
   "cell_type": "code",
   "execution_count": 3,
   "metadata": {
    "collapsed": false
   },
   "outputs": [
    {
     "name": "stdout",
     "output_type": "stream",
     "text": [
      "[1, 16, 4]\n"
     ]
    }
   ],
   "source": [
    "a = [1, 4, 2]\n",
    "print list(np.array(a)**2)"
   ]
  },
  {
   "cell_type": "code",
   "execution_count": null,
   "metadata": {
    "collapsed": true
   },
   "outputs": [],
   "source": []
  }
 ],
 "metadata": {
  "kernelspec": {
   "display_name": "Python 2",
   "language": "python",
   "name": "python2"
  },
  "language_info": {
   "codemirror_mode": {
    "name": "ipython",
    "version": 2
   },
   "file_extension": ".py",
   "mimetype": "text/x-python",
   "name": "python",
   "nbconvert_exporter": "python",
   "pygments_lexer": "ipython2",
   "version": "2.7.6"
  }
 },
 "nbformat": 4,
 "nbformat_minor": 0
}
